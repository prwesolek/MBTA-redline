{
 "cells": [
  {
   "cell_type": "code",
   "execution_count": 1,
   "metadata": {},
   "outputs": [
    {
     "name": "stdout",
     "output_type": "stream",
     "text": [
      "For which year (2017 or 2018) do you want to run the grapher? 2017\n",
      "Do you want to run the tests for peak or offpeak data? peak\n",
      "At which tolerance do you want to run the grapher? .01\n"
     ]
    },
    {
     "name": "stderr",
     "output_type": "stream",
     "text": [
      "/home/bhula-wesolekhousehold/anaconda3/lib/python3.7/site-packages/networkx/drawing/nx_pylab.py:611: MatplotlibDeprecationWarning: isinstance(..., numbers.Number)\n",
      "  if cb.is_numlike(alpha):\n"
     ]
    },
    {
     "name": "stdout",
     "output_type": "stream",
     "text": [
      "Graph details written to grapher-reports folder.\n",
      "The number of connected components is  2 If this number is large, you may wish to abort component drawing.\n",
      "Do you wish to abort component drawing (y/n)? n\n",
      "Components successfully drawn. See grapher-outputs folder.\n"
     ]
    }
   ],
   "source": [
    "import pandas as pd\n",
    "import numpy as np\n",
    "import networkx as nx\n",
    "import matplotlib.pyplot as plt\n",
    "\n",
    "def graph_build(graph,filelable):\n",
    "    fig1=plt.figure()\n",
    "    pos = nx.spring_layout(graph,k=0.07,iterations=20)\n",
    "    X=False\n",
    "    if len(graph)<=50:\n",
    "        X=True\n",
    "    nx.draw(graph, pos, node_size=10,with_labels=X)\n",
    "    fig1.savefig(\"grapher-output/\"+filelable+\".pdf\")\n",
    "    \n",
    "    \n",
    "def components(graph,dataframe):\n",
    "    components=[]\n",
    "    nodesets=[]\n",
    "    for i in range(len(dataframe)):\n",
    "        date=str(dataframe.loc[i,'date'])\n",
    "        if date in list(graph):\n",
    "            H=nx.node_connected_component(graph,date)\n",
    "            G=graph.subgraph(H)\n",
    "            if H not in nodesets:\n",
    "                nodesets.append(H)\n",
    "                components.append(G)\n",
    "    return components\n",
    "\n",
    "\n",
    "def statswriter(components,t,tod,year):\n",
    "    outfile=open(\"grapher-reports/\"+tod+\"-\"+str(year)+\"-\"+str(t)+\".txt\",'w',)\n",
    "    outfile.write(\"This report is for a run of the grapher on the \"+tod+\"-\"+str(year)+\" data set with graph tolerance \"+str(t)+\".\\n\\n\")\n",
    "    outfile.write(\"Number of connected components: \"+str(len(components))+\".\\n\\n\")\n",
    "    comp=\"\"\n",
    "    for c in components:\n",
    "        x=c.order()\n",
    "        comp=comp+\" \"+str(x)\n",
    "         \n",
    "    outfile.write(\"Sizes of components:\"+comp+\".\\n\\n\")\n",
    "    \n",
    "    outfile.close()\n",
    "    \n",
    "def main_loop(t,tod,year):\n",
    "    filename=\"clean-files-\"+str(year)+\"/\"+tod+\"-\"+str(year)+\".csv\"\n",
    "    dff=pd.read_csv(filename)\n",
    "    F=[]\n",
    "    T=[]\n",
    "    for i in range(len(dff)):\n",
    "        for j in range(len(dff)):\n",
    "            if j!=i:\n",
    "                if abs(dff.loc[j,'ontime']-dff.loc[i,'ontime'])<=t:\n",
    "                    F.append(str(dff.loc[i,'date']))\n",
    "                    T.append(str(dff.loc[j,'date']))\n",
    "    \n",
    "    df = pd.DataFrame({ 'from':F, 'to':T}) #dataframe giving edges\n",
    "    \n",
    "    G=nx.from_pandas_edgelist(df, 'from', 'to') #make graph from data fram.\n",
    "    name=str(year)+\"/\"+tod+\"-\"+str(year)+\"-\"+str(t)+\"-all-components\"\n",
    "    graph_build(G,name)\n",
    "    X=components(G,dff)\n",
    "    statswriter(X,t,tod,year)\n",
    "    print(\"Graph details written to grapher-reports folder.\")\n",
    "    print(\"The number of connected components is \",len(X),\"If this number is large, you may wish to abort component drawing.\")\n",
    "    query=input(\"Do you wish to abort component drawing (y/n)? \")\n",
    "    if query=='n':\n",
    "        i=0\n",
    "        for comp in X:\n",
    "            name=str(year)+\"/\"+tod+\"-\"+str(year)+\"-\"+str(t)+\"-component-\"+str(i)\n",
    "            i+=1\n",
    "            graph_build(comp,name)\n",
    "        print(\"Components successfully drawn. See grapher-outputs folder.\")\n",
    "    else:\n",
    "        print(\"Component drawing aborted.\")\n",
    "    \n",
    "    \n",
    "\n",
    "if __name__ == '__main__':\n",
    "    year=input(\"For which year (2017 or 2018) do you want to run the grapher? \") #ask for year input\n",
    "    tod=input(\"Do you want to run the tests for peak or offpeak data? \")\n",
    "    t=input(\"At which tolerance do you want to run the grapher? \" )\n",
    "    t=float(t)\n",
    "    main_loop(t,tod,year)"
   ]
  }
 ],
 "metadata": {
  "kernelspec": {
   "display_name": "Python 3",
   "language": "python",
   "name": "python3"
  },
  "language_info": {
   "codemirror_mode": {
    "name": "ipython",
    "version": 3
   },
   "file_extension": ".py",
   "mimetype": "text/x-python",
   "name": "python",
   "nbconvert_exporter": "python",
   "pygments_lexer": "ipython3",
   "version": "3.7.1"
  }
 },
 "nbformat": 4,
 "nbformat_minor": 2
}
