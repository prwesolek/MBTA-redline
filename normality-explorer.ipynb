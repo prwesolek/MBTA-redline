{
 "cells": [
  {
   "cell_type": "code",
   "execution_count": 1,
   "metadata": {},
   "outputs": [
    {
     "name": "stdout",
     "output_type": "stream",
     "text": [
      "For which year (2017 or 2018) do you want to run the temperature normality explorer? 2017\n",
      "At which temperature do you want to run the temperature normality explorer? 32\n",
      "Output graphs can be found in the  2017  directory in the graphs directory.\n",
      "None of the data sets for  2017  are normally distributed.\n"
     ]
    }
   ],
   "source": [
    "import pandas as pd\n",
    "import sys\n",
    "import numpy as np\n",
    "import matplotlib.pyplot as plt\n",
    "import scipy\n",
    "from scipy.stats import norm\n",
    "import matplotlib.mlab as mlab\n",
    "\n",
    "\n",
    "def check_norm_temp_graphical(year,temp): \n",
    "    for tod in ['peak','offpeak']:\n",
    "        data=pd.read_csv(\"clean-files-\"+str(year)+\"/\"+tod+\"-\"+str(year)+\".csv\",index_col=\"date\") #read in data\n",
    "        for hl in ['high','low']:\n",
    "            aboveF=data[data[hl]>temp] #above 32 data frame\n",
    "            belowF=data[data[hl]<=temp] #below 32 data frame\n",
    "            aboveF=aboveF['ontime'] #reduce to ontime data\n",
    "            belowF=belowF['ontime'] #reduce to ontime data\n",
    "            for aob in ['above','below']:\n",
    "                \n",
    "                if aob=='above':#finds out which data frame to look at\n",
    "                    X=aboveF \n",
    "                if aob=='below':\n",
    "                    X=belowF\n",
    "                X=aboveF \n",
    "                mu, sigma = norm.fit(X) #get mean and std from belowF data\n",
    "                fig1=plt.figure()\n",
    "                n, bins, patches = plt.hist(X,  bins=50,density=True, alpha=0.9) #make a histogram from X\n",
    "                xmin, xmax = plt.xlim() #determine the upper and lower limits of the histogram\n",
    "                x = np.linspace(xmin, xmax, 50) #an array with 50 terms equally spaced from xmin to xmax\n",
    "                p = norm.pdf(x, mu, sigma)\n",
    "                plt.plot(x, p, linewidth=2)\n",
    "                plt.title('Days with '+hl+' '+aob+' '+str(temp))\n",
    "                plt.ylabel('Frequency')\n",
    "                plt.xlabel('On-time percent')\n",
    "                fig1.savefig(\"graphs/\"+str(year)+'/'+tod+'-'+str(year)+'-'+hl+'-'+aob+'-'+str(temp)+\".pdf\")\n",
    "\n",
    "def check_norm_analytic(year,temp):\n",
    "    normdata=[]\n",
    "    for tod in ['peak','offpeak']:\n",
    "        data=pd.read_csv(\"clean-files-\"+str(year)+\"/\"+tod+\"-\"+str(year)+\".csv\",index_col=\"date\") #read in data\n",
    "        for hl in ['high','low']:\n",
    "            aboveF=data[data[hl]>temp] #above 32 data frame\n",
    "            belowF=data[data[hl]<=temp] #below 32 data frame\n",
    "            aboveF=aboveF['ontime'] #reduce to ontime data\n",
    "            belowF=belowF['ontime'] #reduce to ontime data\n",
    "            for aob in ['above','below']:\n",
    "                \n",
    "                if aob=='above':#finds out which data frame to look at\n",
    "                    X=aboveF \n",
    "                if aob=='below':\n",
    "                    X=belowF\n",
    "                X=aboveF \n",
    "                \n",
    "                (s,p)=scipy.stats.normaltest(X) #run normality test. The null hypothesis is \"the data is normally distributed.\"\n",
    "                \n",
    "                if p>.05:\n",
    "                    normdata.append((tod,str(year),hl,aob,str(temp)))\n",
    "    \n",
    "    if normdata==[]:\n",
    "        print(\"None of the data sets for \",year,\" are normally distributed.\")\n",
    "    else:\n",
    "        print(\"The following data sets for \",year,\" may be normally distributed: \",normdata)\n",
    "\n",
    "def main_loop():\n",
    "    year=input(\"For which year (2017 or 2018) do you want to run the temperature normality explorer? \") #ask for year input\n",
    "    tm=input(\"At which temperature do you want to run the temperature normality explorer? \")#ask for temp input\n",
    "    temp=float(tm)\n",
    "    check_norm_temp_graphical(year,temp)\n",
    "    print(\"Output graphs can be found in the \",year,\" directory in the graphs directory.\")\n",
    "    check_norm_analytic(year,temp)\n",
    "    \n",
    "    \n",
    "if __name__ == '__main__':\n",
    "    main_loop()"
   ]
  },
  {
   "cell_type": "code",
   "execution_count": null,
   "metadata": {},
   "outputs": [],
   "source": []
  }
 ],
 "metadata": {
  "kernelspec": {
   "display_name": "Python 3",
   "language": "python",
   "name": "python3"
  },
  "language_info": {
   "codemirror_mode": {
    "name": "ipython",
    "version": 3
   },
   "file_extension": ".py",
   "mimetype": "text/x-python",
   "name": "python",
   "nbconvert_exporter": "python",
   "pygments_lexer": "ipython3",
   "version": "3.7.1"
  }
 },
 "nbformat": 4,
 "nbformat_minor": 2
}
